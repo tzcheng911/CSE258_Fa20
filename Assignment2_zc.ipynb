{
 "cells": [
  {
   "cell_type": "code",
   "execution_count": 11,
   "metadata": {},
   "outputs": [
    {
     "name": "stderr",
     "output_type": "stream",
     "text": [
      "[nltk_data] Downloading package stopwords to\n",
      "[nltk_data]     /Users/t.z.cheng/nltk_data...\n",
      "[nltk_data]   Package stopwords is already up-to-date!\n"
     ]
    },
    {
     "data": {
      "text/plain": [
       "True"
      ]
     },
     "execution_count": 11,
     "metadata": {},
     "output_type": "execute_result"
    }
   ],
   "source": [
    "import csv\n",
    "import numpy as np\n",
    "import pandas as pd\n",
    "from collections import defaultdict\n",
    "import string\n",
    "import seaborn as sns\n",
    "from sklearn import linear_model\n",
    "from sklearn import metrics # confusion matrix, MSE etc.\n",
    "import nltk\n",
    "from nltk.stem.porter import *\n",
    "from nltk.corpus import stopwords\n",
    "import matplotlib.pyplot as plt\n",
    "nltk.download('stopwords')"
   ]
  },
  {
   "cell_type": "code",
   "execution_count": 6,
   "metadata": {},
   "outputs": [],
   "source": [
    "path_to_data = '/Users/t.z.cheng/Google_Drive/Coursework/CSE258/assignment/assignment2/profiles.csv'"
   ]
  },
  {
   "cell_type": "code",
   "execution_count": 7,
   "metadata": {},
   "outputs": [],
   "source": [
    "def read_data(path):\n",
    "    with open(path) as csvfile:\n",
    "        reader = csv.DictReader(csvfile)\n",
    "        for d in reader:\n",
    "            d[\"full_essay\"] = \" \\n \".join([d[f'essay{i}'] for i in range(10)]) ## join the essays together\n",
    "            yield d      "
   ]
  },
  {
   "cell_type": "code",
   "execution_count": 8,
   "metadata": {},
   "outputs": [],
   "source": [
    "## Read the data\n",
    "df = pd.read_csv(path_to_data)\n",
    "data = list(read_data(path_to_data))\n",
    "train = data[:30000]\n",
    "valid = data[30000:40000]\n",
    "test = data[40000:]"
   ]
  },
  {
   "cell_type": "code",
   "execution_count": 12,
   "metadata": {},
   "outputs": [
    {
     "data": {
      "text/plain": [
       "<seaborn.axisgrid.FacetGrid at 0x11661f490>"
      ]
     },
     "execution_count": 12,
     "metadata": {},
     "output_type": "execute_result"
    },
    {
     "data": {
      "image/png": "[encoded data removed]",
      "text/plain": [
       "<Figure size 360x360 with 1 Axes>"
      ]
     },
     "metadata": {},
     "output_type": "display_data"
    }
   ],
   "source": [
    "## Gender\n",
    "df['sex'].value_counts()\n",
    "sns.set(rc={'figure.figsize':(10,5)})\n",
    "sns.displot(x='sex', data=df)"
   ]
  },
  {
   "cell_type": "code",
   "execution_count": 13,
   "metadata": {},
   "outputs": [
    {
     "data": {
      "text/plain": [
       "0    35829\n",
       "1    24117\n",
       "Name: sex_cleaned, dtype: int64"
      ]
     },
     "execution_count": 13,
     "metadata": {},
     "output_type": "execute_result"
    }
   ],
   "source": [
    "df['sex_cleaned'] = [1 if d == 'f' else 0 for d in df['sex']]\n",
    "df['sex_cleaned'].value_counts()"
   ]
  },
  {
   "cell_type": "code",
   "execution_count": 16,
   "metadata": {},
   "outputs": [
    {
     "name": "stdout",
     "output_type": "stream",
     "text": [
      "done\n",
      "1465167 208005\n"
     ]
    }
   ],
   "source": [
    "bigram_count = defaultdict(int)\n",
    "unigram_count = defaultdict(int)\n",
    "\n",
    "punct = string.punctuation\n",
    "stemmer = PorterStemmer()\n",
    "for d in train:\n",
    "    text = d[\"full_essay\"]\n",
    "    text = text.lower()\n",
    "    text = [c for c in text if not (c in punct)]\n",
    "    text = \"\".join(text)\n",
    "    text = text.strip().split()\n",
    "    text = [stemmer.stem(w) for w in text]\n",
    "    \n",
    "    for i in range(len(text) -1 ):\n",
    "        bigram_count[(text[i], text[i+1])] += 1\n",
    "    for i in range(len(text)):\n",
    "        unigram_count[text[i]] += 1\n",
    "    \n",
    "for sw in stopwords.words(\"english\"):\n",
    "    try:\n",
    "        del unigram_count[sw]\n",
    "    except KeyError:\n",
    "        continue\n",
    "\n",
    "    for a,b in list(bigram_count.keys()):\n",
    "        if a == sw or b == sw:\n",
    "            try:\n",
    "                del bigram_count[(a,b)]\n",
    "            except KeyError:\n",
    "                pass\n",
    "        \n",
    "print(\"done\")\n",
    "print(len(bigram_count), len(unigram_count))"
   ]
  },
  {
   "cell_type": "code",
   "execution_count": 18,
   "metadata": {},
   "outputs": [],
   "source": [
    "sorted_bigram_count = sorted(bigram_count.items(), key = lambda x:-x[1])\n",
    "top_bigram = sorted_bigram_count[:1000]\n",
    "top_bigram_words = [w for w,_ in top_bigram]\n",
    "\n",
    "sorted_unigram_count = sorted(unigram_count.items(), key = lambda x:-x[1])\n",
    "top_unigram = sorted_unigram_count[:1000]\n",
    "top_unigram_words = [w for w,_ in top_unigram]\n",
    "\n",
    "unigram_id = dict(zip(top_unigram_words, range(len(top_unigram_words))))\n",
    "bigram_id = dict(zip(top_bigram_words, range(len(top_bigram_words))))"
   ]
  },
  {
   "cell_type": "markdown",
   "metadata": {},
   "source": [
    "### Use the frequency of unigram and bigram to predict gender"
   ]
  },
  {
   "cell_type": "code",
   "execution_count": 37,
   "metadata": {},
   "outputs": [],
   "source": [
    "def feature(d): \n",
    "    text = d[\"full_essay\"]\n",
    "    text = text.lower()\n",
    "    text = [c for c in text if not (c in punct)]\n",
    "    text = \"\".join(text)\n",
    "    text = text.strip().split()\n",
    "    text = [stemmer.stem(w.strip()) for w in text]\n",
    "        \n",
    "    feat = [0]*( len(unigram_id)+len(bigram_id) )\n",
    "    \n",
    "    for w in text:\n",
    "        tf[w] += 1\n",
    "    for w in tf:\n",
    "        if w not in unigram_id: continue\n",
    "        feat[unigram_id[w]] = tf[w] * idf[w]\n",
    "    \n",
    "    for i in range(len(text)-1):\n",
    "        if not ((text[i], text[i+1]) in bigram_id): continue\n",
    "        feat[len(unigram_id) + bigram_id[(text[i], text[i+1])]] += 1\n",
    "        \n",
    "    feat.append(1)\n",
    "    return feat"
   ]
  },
  {
   "cell_type": "markdown",
   "metadata": {},
   "source": [
    "### Use the tfidf to predict gender"
   ]
  },
  {
   "cell_type": "code",
   "execution_count": null,
   "metadata": {},
   "outputs": [],
   "source": [
    "## idf unigram\n",
    "idf = defaultdict(float)\n",
    "total_doc = len(train)\n",
    "for w,c in unigram_count.items():\n",
    "    idf[w] = -np.log(c/total_doc)"
   ]
  },
  {
   "cell_type": "code",
   "execution_count": 19,
   "metadata": {},
   "outputs": [],
   "source": [
    "## unigram tfidf\n",
    "def feature(d):\n",
    "    feat = [0]*len(unigram_id) \n",
    "    tf = defaultdict(int)\n",
    "    \n",
    "    for w in d[\"full_essay\"]:\n",
    "        tf[w] += 1\n",
    "        \n",
    "    for w in tf:\n",
    "        if w not in unigram_id: continue\n",
    "        feat[unigram_id[w]] = tf[w] * idf[w]\n",
    "        \n",
    "    # feat.append(1) # Don't need this, model adds by default\n",
    "    return feat"
   ]
  },
  {
   "cell_type": "markdown",
   "metadata": {},
   "source": [
    "### Modeling"
   ]
  },
  {
   "cell_type": "code",
   "execution_count": 38,
   "metadata": {},
   "outputs": [],
   "source": [
    "xtrain = [feature(d) for d in train]\n",
    "ytrain = [\"f\" in d['sex'] for d in train]\n",
    "\n",
    "xvalid = [feature(d) for d in valid]\n",
    "yvalid = [\"f\" in d['sex'] for d in valid]\n",
    "\n",
    "xtest = [feature(d) for d in test]\n",
    "ytest = [\"f\" in d['sex'] for d in test]"
   ]
  },
  {
   "cell_type": "code",
   "execution_count": 52,
   "metadata": {},
   "outputs": [],
   "source": [
    "clf = linear_model.LogisticRegression(C=1, solver='lbfgs',  max_iter=10000)\n",
    "clf.fit(xtrain, ytrain)\n",
    "theta = clf.coef_\n",
    "predictions = clf.predict(xvalid)"
   ]
  },
  {
   "cell_type": "code",
   "execution_count": 40,
   "metadata": {},
   "outputs": [
    {
     "data": {
      "text/plain": [
       "0.5976879191272145"
      ]
     },
     "execution_count": 40,
     "metadata": {},
     "output_type": "execute_result"
    }
   ],
   "source": [
    "## Trivial predictor: predict all are males\n",
    "df['sex_cleaned'].value_counts()[0]/(df['sex_cleaned'].value_counts()[0]+df['sex_cleaned'].value_counts()[1])"
   ]
  },
  {
   "cell_type": "code",
   "execution_count": 53,
   "metadata": {},
   "outputs": [
    {
     "name": "stdout",
     "output_type": "stream",
     "text": [
      "accuracy:  0.7559\n"
     ]
    }
   ],
   "source": [
    "print(\"accuracy: \",metrics.accuracy_score(predictions, yvalid))"
   ]
  },
  {
   "cell_type": "code",
   "execution_count": 54,
   "metadata": {},
   "outputs": [
    {
     "name": "stdout",
     "output_type": "stream",
     "text": [
      "BER: 0.2703273822106529\n"
     ]
    }
   ],
   "source": [
    "## BER\n",
    "TP_ = np.logical_and(np.array(yvalid) == True, predictions == True)\n",
    "FP_ = np.logical_and(np.array(yvalid) == False, predictions == True)\n",
    "TN_ = np.logical_and(np.array(yvalid) == False, predictions == False)\n",
    "FN_ = np.logical_and(np.array(yvalid) == True, predictions == False)\n",
    "TP = sum(TP_)\n",
    "FP = sum(FP_)\n",
    "TN = sum(TN_)\n",
    "FN = sum(FN_)\n",
    "BER = 1 - 0.5 * (TP / (TP + FN) + TN / (TN + FP))\n",
    "print('BER:',BER)"
   ]
  },
  {
   "cell_type": "markdown",
   "metadata": {},
   "source": [
    "### Find the top unigram and bigram"
   ]
  },
  {
   "cell_type": "code",
   "execution_count": 22,
   "metadata": {},
   "outputs": [
    {
     "data": {
      "text/plain": [
       "['br', 'im', 'like', 'love', 'classilink']"
      ]
     },
     "execution_count": 22,
     "metadata": {},
     "output_type": "execute_result"
    }
   ],
   "source": [
    "top_unigram_words[:5]"
   ]
  },
  {
   "cell_type": "code",
   "execution_count": 23,
   "metadata": {},
   "outputs": [
    {
     "name": "stdout",
     "output_type": "stream",
     "text": [
      "[(-0.04527141814634612, '2'), (-0.019522917441990736, '7'), (-0.018814355705352098, '4'), (-0.01591569868589094, '6'), (-0.011106855817984642, '1')]\n",
      "[(0.0, 'youll'), (0.0, 'young'), (0.0, 'youv'), (0.0010530520729103952, 'n'), (0.01691633538408152, '5')]\n"
     ]
    }
   ],
   "source": [
    "weights = list(zip(theta[0], top_unigram_words))\n",
    "weights.sort()\n",
    "print(weights[:5])\n",
    "print(weights[-5:])"
   ]
  },
  {
   "cell_type": "code",
   "execution_count": 41,
   "metadata": {},
   "outputs": [
    {
     "name": "stdout",
     "output_type": "stream",
     "text": [
      "accuracy:  0.744\n"
     ]
    }
   ],
   "source": [
    "print(\"accuracy: \",metrics.accuracy_score(predictions, yvalid))"
   ]
  },
  {
   "cell_type": "code",
   "execution_count": 25,
   "metadata": {},
   "outputs": [],
   "source": [
    "## idf bigram\n",
    "idf = defaultdict(float)\n",
    "total_doc = len(train)\n",
    "for w,c in bigram_count.items():\n",
    "    idf[w] = -np.log(c/total_doc)"
   ]
  },
  {
   "cell_type": "code",
   "execution_count": 26,
   "metadata": {},
   "outputs": [],
   "source": [
    "## bigram tfidf\n",
    "def feature(d):\n",
    "    feat = [0]*len(bigram_id) \n",
    "    tf = defaultdict(int)\n",
    "    \n",
    "    for w in d[\"full_essay\"]:\n",
    "        tf[w] += 1\n",
    "        \n",
    "    for w in tf:\n",
    "        if w not in bigram_id: continue\n",
    "        feat[bigram_id[w]] = tf[w] * idf[w]\n",
    "        \n",
    "    # feat.append(1) # Don't need this, model adds by default\n",
    "    return feat"
   ]
  },
  {
   "cell_type": "code",
   "execution_count": 27,
   "metadata": {},
   "outputs": [],
   "source": [
    "xtrain = [feature(d) for d in train]\n",
    "ytrain = [\"f\" in d['sex'] for d in train]\n",
    "\n",
    "xvalid = [feature(d) for d in valid]\n",
    "yvalid = [\"f\" in d['sex'] for d in valid]\n",
    "\n",
    "xtest = [feature(d) for d in test]\n",
    "ytest = [\"f\" in d['sex'] for d in test]"
   ]
  },
  {
   "cell_type": "code",
   "execution_count": 28,
   "metadata": {},
   "outputs": [],
   "source": [
    "clf = linear_model.LogisticRegression(C=1, solver='lbfgs', class_weight = 'balanced', max_iter=10000)\n",
    "clf.fit(xtrain, ytrain)\n",
    "theta = clf.coef_\n",
    "predictions = clf.predict(xvalid)"
   ]
  },
  {
   "cell_type": "code",
   "execution_count": 29,
   "metadata": {},
   "outputs": [
    {
     "name": "stdout",
     "output_type": "stream",
     "text": [
      "accuracy:  0.6076\n"
     ]
    }
   ],
   "source": [
    "print(\"accuracy: \",metrics.accuracy_score(predictions, yvalid))"
   ]
  },
  {
   "cell_type": "code",
   "execution_count": 62,
   "metadata": {},
   "outputs": [
    {
     "name": "stdout",
     "output_type": "stream",
     "text": [
      "BER: 0.5\n"
     ]
    }
   ],
   "source": [
    "## BER\n",
    "TP_ = np.logical_and(np.array(yvalid) == True, predictions == True)\n",
    "FP_ = np.logical_and(np.array(yvalid) == False, predictions == True)\n",
    "TN_ = np.logical_and(np.array(yvalid) == False, predictions == False)\n",
    "FN_ = np.logical_and(np.array(yvalid) == True, predictions == False)\n",
    "TP = sum(TP_)\n",
    "FP = sum(FP_)\n",
    "TN = sum(TN_)\n",
    "FN = sum(FN_)\n",
    "BER = 1 - 0.5 * (TP / (TP + FN) + TN / (TN + FP))\n",
    "print('BER:',BER)"
   ]
  },
  {
   "cell_type": "code",
   "execution_count": 63,
   "metadata": {},
   "outputs": [
    {
     "name": "stdout",
     "output_type": "stream",
     "text": [
      "[(-0.6924125602067639, ('ive', 'got')), (-0.6418697486837696, ('five', 'year')), (-0.5920851675711589, ('also', 'pretti')), (-0.4857602091676884, ('comput', 'scienc')), (-0.4650101847657169, ('come', 'back'))]\n",
      "[(0.4658416765237147, ('get', 'lost')), (0.49293218049277154, ('good', 'peopl')), (0.5591073152158113, ('good', 'book')), (0.607577496188865, ('also', 'spend')), (0.6203419225004301, ('br', 'current'))]\n"
     ]
    }
   ],
   "source": [
    "weights = list(zip(theta[0], top_bigram_words))\n",
    "weights.sort()\n",
    "print(weights[:5])\n",
    "print(weights[-5:])"
   ]
  },
  {
   "cell_type": "code",
   "execution_count": 33,
   "metadata": {},
   "outputs": [
    {
     "data": {
      "text/plain": [
       "0.5976879191272145"
      ]
     },
     "execution_count": 33,
     "metadata": {},
     "output_type": "execute_result"
    }
   ],
   "source": []
  },
  {
   "cell_type": "code",
   "execution_count": null,
   "metadata": {},
   "outputs": [],
   "source": []
  },
  {
   "cell_type": "code",
   "execution_count": null,
   "metadata": {},
   "outputs": [],
   "source": []
  },
  {
   "cell_type": "code",
   "execution_count": null,
   "metadata": {},
   "outputs": [],
   "source": [
    "# Drop rows without spoken language\n",
    "df = df.dropna(axis=0, subset=['speaks'])"
   ]
  },
  {
   "cell_type": "code",
   "execution_count": null,
   "metadata": {},
   "outputs": [],
   "source": [
    "# Define target variable as 1 if speaks c++ or lisp, 0 otherwise\n",
    "df['target'] = [1 if (\"c++\" in df['speaks'].iloc[i] or \"lisp\" in df['speaks'].iloc[i]) else 0 for i in range(len(df))]"
   ]
  },
  {
   "cell_type": "code",
   "execution_count": null,
   "metadata": {},
   "outputs": [],
   "source": [
    "# Determine % of target \n",
    "sum(df['target']) / len(df)"
   ]
  },
  {
   "cell_type": "code",
   "execution_count": null,
   "metadata": {},
   "outputs": [],
   "source": [
    "len(df)"
   ]
  },
  {
   "cell_type": "code",
   "execution_count": null,
   "metadata": {},
   "outputs": [],
   "source": [
    "df.head(50)"
   ]
  },
  {
   "cell_type": "code",
   "execution_count": 58,
   "metadata": {},
   "outputs": [
    {
     "data": {
      "text/plain": [
       "[False, False, False, False, False, False, False, False, False, False]"
      ]
     },
     "execution_count": 58,
     "metadata": {},
     "output_type": "execute_result"
    }
   ],
   "source": [
    "predictions[-10:]"
   ]
  },
  {
   "cell_type": "code",
   "execution_count": 56,
   "metadata": {},
   "outputs": [],
   "source": [
    "predictions = [False for i in np.arange(0,len(predictions))]"
   ]
  },
  {
   "cell_type": "code",
   "execution_count": 61,
   "metadata": {},
   "outputs": [],
   "source": [
    "predictions = np.array(predictions)"
   ]
  },
  {
   "cell_type": "code",
   "execution_count": null,
   "metadata": {},
   "outputs": [],
   "source": []
  }
 ],
 "metadata": {
  "kernelspec": {
   "display_name": "Python 3",
   "language": "python",
   "name": "python3"
  },
  "language_info": {
   "codemirror_mode": {
    "name": "ipython",
    "version": 3
   },
   "file_extension": ".py",
   "mimetype": "text/x-python",
   "name": "python",
   "nbconvert_exporter": "python",
   "pygments_lexer": "ipython3",
   "version": "3.7.6"
  }
 },
 "nbformat": 4,
 "nbformat_minor": 4
}
