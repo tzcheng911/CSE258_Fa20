{
 "cells": [
  {
   "cell_type": "markdown",
   "metadata": {},
   "source": [
    "## Fa2020 CSE258 HW2\n",
    "Name: Tzu-Han Cheng\n",
    "\n",
    "PID: A53238806\n",
    "\n",
    "email: tzcheng@ucsd.edu"
   ]
  },
  {
   "cell_type": "code",
   "execution_count": 1,
   "metadata": {},
   "outputs": [],
   "source": [
    "import numpy as np        # linear algebra\n",
    "import urllib.request # load data from the web\n",
    "import scipy.optimize # optimization routines\n",
    "import random         # random number generation\n",
    "import ast\n",
    "import matplotlib.pyplot as plt\n",
    "from sklearn import linear_model\n",
    "from sklearn import preprocessing\n",
    "from sklearn import metrics # confusion matrix, MSE etc.\n",
    "from collections import defaultdict"
   ]
  },
  {
   "cell_type": "code",
   "execution_count": 2,
   "metadata": {},
   "outputs": [],
   "source": [
    "def parseData(fname):\n",
    "  for l in urllib.request.urlopen(fname):\n",
    "    yield eval(l)"
   ]
  },
  {
   "cell_type": "code",
   "execution_count": 3,
   "metadata": {},
   "outputs": [],
   "source": [
    "def getlen(datum):\n",
    "  textlen = len(datum)\n",
    "  return textlen"
   ]
  },
  {
   "cell_type": "code",
   "execution_count": 4,
   "metadata": {},
   "outputs": [],
   "source": [
    "data = list(parseData(\"https://cseweb.ucsd.edu/classes/fa20/cse258-a/data/beer_50000.json\"))"
   ]
  },
  {
   "cell_type": "code",
   "execution_count": 5,
   "metadata": {},
   "outputs": [],
   "source": [
    "# Random shuffle the whole dataset\n",
    "random.shuffle(data)"
   ]
  },
  {
   "cell_type": "code",
   "execution_count": 65,
   "metadata": {},
   "outputs": [],
   "source": [
    "Y = [1 if d['beer/ABV'] > 7.0 else -1 for d in data]\n",
    "Y = np.array(Y, dtype = 'int')\n",
    "style = [d[\"beer/style\"] for d in data]"
   ]
  },
  {
   "cell_type": "code",
   "execution_count": 7,
   "metadata": {},
   "outputs": [],
   "source": [
    "categoryCounts = defaultdict(int)\n",
    "for d in data: \n",
    "    categoryCounts[d[\"beer/style\"]] += 1\n",
    "categories = [c for c in categoryCounts if categoryCounts[c] > 1000]\n",
    "catID = dict(zip(list(categories),range(1,len(categories)+1))) # code the styles ordinally from 1 to 13, don"
   ]
  },
  {
   "cell_type": "code",
   "execution_count": 8,
   "metadata": {},
   "outputs": [],
   "source": [
    "## One hot encoding\n",
    "style_ordinal = [catID.get(x) if x in categories else 0 for x in style]\n",
    "style_ordinal = np.array(style_ordinal, dtype = 'int')\n",
    "style_ordinal = style_ordinal.reshape(-1,1)\n",
    "enc = preprocessing.OneHotEncoder(drop='first')\n",
    "enc.fit(style_ordinal)\n",
    "onehotlabels = enc.transform(style_ordinal).toarray()"
   ]
  },
  {
   "cell_type": "markdown",
   "metadata": {},
   "source": [
    "### Question 1"
   ]
  },
  {
   "cell_type": "code",
   "execution_count": 41,
   "metadata": {},
   "outputs": [],
   "source": [
    "## Create feature array \n",
    "X = []\n",
    "X = np.insert(onehotlabels,0,1,axis=1) # Adding 1 as the intercept"
   ]
  },
  {
   "cell_type": "code",
   "execution_count": 79,
   "metadata": {},
   "outputs": [],
   "source": [
    "## Linear regression model\n",
    "model_line = linear_model.LinearRegression()\n",
    "model_line.fit(X_train,Y_train)\n",
    "yPred_line = model_line.predict(X_test)\n",
    "yPred_line = np.ndarray.tolist(yPred_line)\n",
    "yPred_01 = [1 if x > 0 else -1 for x in yPred_line] \n",
    "yPred_01 = np.array(yPred_01, dtype = 'int')"
   ]
  },
  {
   "cell_type": "code",
   "execution_count": 76,
   "metadata": {},
   "outputs": [
    {
     "name": "stdout",
     "output_type": "stream",
     "text": [
      "[-0.3171050184376303, 0.9322462394738242, -0.516910894995692, 1.1976587130204701, -0.32168072283280236, -0.2461450286393092, -0.6131152145128993, -0.20917848191237887, 0.6628969852205651, 0.9357211297773753]\n",
      "[-1  1 -1  1 -1 -1 -1 -1  1  1]\n",
      "[-1  1 -1  1 -1 -1 -1 -1  1  1]\n"
     ]
    }
   ],
   "source": [
    "print(yPred_line[:10])\n",
    "print(yPred_01[:10])\n",
    "print(yPred_logi[:10])"
   ]
  },
  {
   "cell_type": "code",
   "execution_count": 80,
   "metadata": {},
   "outputs": [],
   "source": [
    "## Logistic regression model\n",
    "model_logi = linear_model.LogisticRegression(max_iter = 1000)\n",
    "model_logi.fit(X_train,Y_train)\n",
    "yPred_logi = model_logi.predict(X_test)"
   ]
  },
  {
   "cell_type": "code",
   "execution_count": 81,
   "metadata": {},
   "outputs": [],
   "source": [
    "TP_ = np.logical_and(Y_test == 1, yPred_logi == 1)\n",
    "FP_ = np.logical_and(Y_test == -1, yPred_logi == 1)\n",
    "TN_ = np.logical_and(Y_test == -1, yPred_logi == -1)\n",
    "FN_ = np.logical_and(Y_test == 1, yPred_logi == -1)\n",
    "TP = sum(TP_)\n",
    "FP = sum(FP_)\n",
    "TN = sum(TN_)\n",
    "FN = sum(FN_)"
   ]
  },
  {
   "cell_type": "code",
   "execution_count": 82,
   "metadata": {},
   "outputs": [
    {
     "data": {
      "text/plain": [
       "8544"
      ]
     },
     "execution_count": 82,
     "metadata": {},
     "output_type": "execute_result"
    }
   ],
   "source": [
    "TP"
   ]
  },
  {
   "cell_type": "code",
   "execution_count": 83,
   "metadata": {},
   "outputs": [
    {
     "name": "stdout",
     "output_type": "stream",
     "text": [
      "Accuracy: 0.85536\n",
      "BER: 0.15254579864232343\n"
     ]
    }
   ],
   "source": [
    "# Accuracy and BER\n",
    "accuracy = (TP + TN) / (TP + FP + TN + FN)\n",
    "print('Accuracy:',accuracy)\n",
    "BER = 1 - 0.5 * (TP / (TP + FN) + TN / (TN + FP))\n",
    "print('BER:',BER)"
   ]
  },
  {
   "cell_type": "code",
   "execution_count": 85,
   "metadata": {},
   "outputs": [],
   "source": [
    "TP_ = np.logical_and(Y_test == 1, yPred_01 == 1)\n",
    "FP_ = np.logical_and(Y_test == -1, yPred_01 == 1)\n",
    "TN_ = np.logical_and(Y_test == -1, yPred_01 == -1)\n",
    "FN_ = np.logical_and(Y_test == 1, yPred_01 == -1)\n",
    "TP = sum(TP_)\n",
    "FP = sum(FP_)\n",
    "TN = sum(TN_)\n",
    "FN = sum(FN_)"
   ]
  },
  {
   "cell_type": "code",
   "execution_count": 86,
   "metadata": {},
   "outputs": [
    {
     "data": {
      "text/plain": [
       "24108"
      ]
     },
     "execution_count": 86,
     "metadata": {},
     "output_type": "execute_result"
    }
   ],
   "source": [
    "sum(yPred_01 == yPred_logi)"
   ]
  },
  {
   "cell_type": "code",
   "execution_count": 87,
   "metadata": {},
   "outputs": [
    {
     "name": "stdout",
     "output_type": "stream",
     "text": [
      "Accuracy: 0.84872\n",
      "BER: 0.16173218141114942\n"
     ]
    }
   ],
   "source": [
    "# Accuracy and BER\n",
    "accuracy = (TP + TN) / (TP + FP + TN + FN)\n",
    "print('Accuracy:',accuracy)\n",
    "BER = 1 - 0.5 * (TP / (TP + FN) + TN / (TN + FP))\n",
    "print('BER:',BER)"
   ]
  },
  {
   "cell_type": "code",
   "execution_count": null,
   "metadata": {},
   "outputs": [],
   "source": []
  },
  {
   "cell_type": "code",
   "execution_count": null,
   "metadata": {},
   "outputs": [],
   "source": []
  },
  {
   "cell_type": "code",
   "execution_count": null,
   "metadata": {},
   "outputs": [],
   "source": []
  },
  {
   "cell_type": "code",
   "execution_count": null,
   "metadata": {},
   "outputs": [],
   "source": []
  },
  {
   "cell_type": "code",
   "execution_count": null,
   "metadata": {},
   "outputs": [],
   "source": []
  },
  {
   "cell_type": "code",
   "execution_count": 77,
   "metadata": {},
   "outputs": [],
   "source": [
    "## split train test set\n",
    "N = len(Y)\n",
    "X_train = np.array(X[:N//2], dtype='float') # force N//2 to be integer\n",
    "X_test = np.array(X[N//2:], dtype='float')\n",
    "Y_train = np.array(Y[:N//2], dtype='float')\n",
    "Y_test = np.array(Y[N//2:], dtype='float')"
   ]
  },
  {
   "cell_type": "code",
   "execution_count": null,
   "metadata": {},
   "outputs": [],
   "source": [
    "model = linear_model.LogisticRegression(C=10,class_weight='balanced')\n",
    "model.fit(X_train,Y_train)\n",
    "pred = model.predict(X_test)"
   ]
  },
  {
   "cell_type": "code",
   "execution_count": null,
   "metadata": {},
   "outputs": [],
   "source": [
    "TP_ = np.logical_and(Y_test == 1, pred == 1)\n",
    "FP_ = np.logical_and(Y_test == 0, pred == 1)\n",
    "TN_ = np.logical_and(Y_test == 0, pred == 0)\n",
    "FN_ = np.logical_and(Y_test == 1, pred == 0)\n",
    "TP = sum(TP_)\n",
    "FP = sum(FP_)\n",
    "TN = sum(TN_)\n",
    "FN = sum(FN_)"
   ]
  },
  {
   "cell_type": "code",
   "execution_count": null,
   "metadata": {},
   "outputs": [],
   "source": [
    "# Accuracy and BER\n",
    "accuracy = (TP + TN) / (TP + FP + TN + FN)\n",
    "print('Accuracy:',accuracy)\n",
    "BER = 1 - 0.5 * (TP / (TP + FN) + TN / (TN + FP))\n",
    "print('BER:',BER)"
   ]
  },
  {
   "cell_type": "markdown",
   "metadata": {},
   "source": [
    "### Question 2"
   ]
  },
  {
   "cell_type": "code",
   "execution_count": 51,
   "metadata": {},
   "outputs": [],
   "source": [
    "x_extra1 = [d[\"review/aroma\"] for d in data]"
   ]
  },
  {
   "cell_type": "code",
   "execution_count": 52,
   "metadata": {},
   "outputs": [],
   "source": [
    "length = [getlen(d['review/text']) for d in data]\n",
    "length = np.array(length)/max(length) # normalize the length feature \n",
    "x_extra2 = [l for l in length]"
   ]
  },
  {
   "cell_type": "code",
   "execution_count": 53,
   "metadata": {},
   "outputs": [],
   "source": [
    "Xr,Xc = X.shape\n",
    "X = np.insert(X,Xc,[x_extra1],axis=1) \n",
    "Xr,Xc = X.shape\n",
    "X = np.insert(X,Xc,[x_extra2],axis=1) "
   ]
  },
  {
   "cell_type": "code",
   "execution_count": null,
   "metadata": {},
   "outputs": [],
   "source": [
    "# Get training and testing subsets\n",
    "N = len(Y)\n",
    "X_train = np.array(X[:N//2], dtype='float') # force N//2 to be integer\n",
    "X_test = np.array(X[N//2:], dtype='float')"
   ]
  },
  {
   "cell_type": "code",
   "execution_count": null,
   "metadata": {},
   "outputs": [],
   "source": [
    "model = linear_model.LogisticRegression(C=10,class_weight='balanced',max_iter = 1000)\n",
    "model.fit(X_train,Y_train)\n",
    "pred = model.predict(X_test)"
   ]
  },
  {
   "cell_type": "code",
   "execution_count": null,
   "metadata": {},
   "outputs": [],
   "source": [
    "TP = sum(np.logical_and(Y_test == 1, pred == 1))\n",
    "FP = sum(np.logical_and(Y_test == 0, pred == 1))\n",
    "TN = sum(np.logical_and(Y_test == 0, pred == 0))\n",
    "FN = sum(np.logical_and(Y_test == 1, pred == 0))"
   ]
  },
  {
   "cell_type": "code",
   "execution_count": null,
   "metadata": {},
   "outputs": [],
   "source": [
    "# BER\n",
    "BER = 1 - 0.5 * (TP / (TP + FN) + TN / (TN + FP))\n",
    "print('BER:',BER)"
   ]
  },
  {
   "cell_type": "markdown",
   "metadata": {},
   "source": [
    "### Question 3"
   ]
  },
  {
   "cell_type": "code",
   "execution_count": null,
   "metadata": {},
   "outputs": [],
   "source": [
    "Nv = len(Y_test)\n",
    "X_testv = np.array(X_test[:Nv//2], dtype='float') \n",
    "Y_testv = np.array(Y_test[:Nv//2], dtype='float')\n",
    "X_valid = np.array(X_test[Nv//2:], dtype='float') \n",
    "Y_valid = np.array(Y_test[Nv//2:], dtype='float')"
   ]
  },
  {
   "cell_type": "code",
   "execution_count": null,
   "metadata": {},
   "outputs": [],
   "source": [
    "C = [10**-6,10**-5,10**-4,10**-3]"
   ]
  },
  {
   "cell_type": "code",
   "execution_count": null,
   "metadata": {},
   "outputs": [],
   "source": [
    "for i in range(0,len(C)):\n",
    "    model = linear_model.LogisticRegression(C=C[i],class_weight='balanced')\n",
    "    model.fit(X_train,Y_train)\n",
    "    pred_train = model.predict(X_train)\n",
    "    pred_valid = model.predict(X_valid)\n",
    "    pred_test = model.predict(X_testv)\n",
    "    TP = sum(np.logical_and(Y_train == 1, pred_train == 1))\n",
    "    FP = sum(np.logical_and(Y_train == 0, pred_train == 1))\n",
    "    TN = sum(np.logical_and(Y_train == 0, pred_train == 0))\n",
    "    FN = sum(np.logical_and(Y_train == 1, pred_train == 0))\n",
    "    BER = 1 - 0.5 * (TP / (TP + FN) + TN / (TN + FP))\n",
    "    print('C:',C[i],'Train BER',BER)\n",
    "    TP = sum(np.logical_and(Y_valid == 1, pred_valid == 1))\n",
    "    FP = sum(np.logical_and(Y_valid == 0, pred_valid == 1))\n",
    "    TN = sum(np.logical_and(Y_valid == 0, pred_valid == 0))\n",
    "    FN = sum(np.logical_and(Y_valid == 1, pred_valid == 0))\n",
    "    BER = 1 - 0.5 * (TP / (TP + FN) + TN / (TN + FP))\n",
    "    print('C:',C[i],'Validation BER:',BER)\n",
    "    TP = sum(np.logical_and(Y_testv == 1, pred_test == 1))\n",
    "    FP = sum(np.logical_and(Y_testv == 0, pred_test == 1))\n",
    "    TN = sum(np.logical_and(Y_testv == 0, pred_test == 0))\n",
    "    FN = sum(np.logical_and(Y_testv == 1, pred_test == 0))\n",
    "    BER = 1 - 0.5 * (TP / (TP + FN) + TN / (TN + FP))\n",
    "    print('C:',C[i],'Test BER:',BER)"
   ]
  },
  {
   "cell_type": "markdown",
   "metadata": {},
   "source": [
    "I would select C = 0.001 to train the classifier since it provides the lowest BER for the validation set. It also provides the lowest BER for the training set. Taken together, this model could generalized well to datasets outside of the training data, meanwhile it does not underfit the training data."
   ]
  },
  {
   "cell_type": "markdown",
   "metadata": {},
   "source": [
    "### Question 5"
   ]
  },
  {
   "cell_type": "code",
   "execution_count": null,
   "metadata": {},
   "outputs": [],
   "source": [
    "## Calculate precision and recall on the test set for C = 0.001 model\n",
    "print(model)\n",
    "precision = TP/(TP+FP)\n",
    "recall = TP/(TP+FN)"
   ]
  },
  {
   "cell_type": "code",
   "execution_count": null,
   "metadata": {},
   "outputs": [],
   "source": [
    "from sklearn.metrics import precision_recall_curve\n",
    "from sklearn.metrics import plot_precision_recall_curve\n",
    "import matplotlib.pyplot as plt"
   ]
  },
  {
   "cell_type": "code",
   "execution_count": null,
   "metadata": {},
   "outputs": [],
   "source": [
    "disp = plot_precision_recall_curve(model, X_testv, Y_testv)"
   ]
  },
  {
   "cell_type": "markdown",
   "metadata": {},
   "source": [
    "### Question 6"
   ]
  },
  {
   "cell_type": "code",
   "execution_count": null,
   "metadata": {},
   "outputs": [],
   "source": [
    "import networkx as nx\n",
    "import matplotlib.pyplot as plt\n",
    "import urllib.request"
   ]
  },
  {
   "cell_type": "code",
   "execution_count": null,
   "metadata": {},
   "outputs": [],
   "source": [
    "edges = set()\n",
    "nodes = set()\n",
    "for edge in open(\"/Users/t.z.cheng/Google_Drive/Coursework/CSE258/HW/hw2/egonet.txt\", 'r'):\n",
    "    x,y = edge.split()\n",
    "    x,y = int(x),int(y)\n",
    "    edges.add((x,y))\n",
    "    edges.add((y,x))\n",
    "    nodes.add(x)\n",
    "    nodes.add(y)"
   ]
  },
  {
   "cell_type": "code",
   "execution_count": null,
   "metadata": {},
   "outputs": [],
   "source": [
    "G = nx.Graph()\n",
    "for e in edges:\n",
    "  G.add_edge(e[0],e[1])\n",
    "nx.draw(G)\n",
    "plt.show()\n",
    "plt.clf()"
   ]
  },
  {
   "cell_type": "code",
   "execution_count": null,
   "metadata": {},
   "outputs": [],
   "source": [
    "cc = nx.connected_components(G)\n",
    "print('Number of connected components:',len(list(cc)))\n",
    "largest_cc = max(nx.connected_components(G), key=len)\n",
    "print('Number of nodes in the largest connected components:',len(largest_cc))"
   ]
  },
  {
   "cell_type": "markdown",
   "metadata": {},
   "source": [
    "### Question 7"
   ]
  },
  {
   "cell_type": "code",
   "execution_count": null,
   "metadata": {},
   "outputs": [],
   "source": [
    "cc = nx.connected_components(G)\n",
    "cc = list(cc)\n",
    "lc = cc[0]"
   ]
  },
  {
   "cell_type": "code",
   "execution_count": null,
   "metadata": {},
   "outputs": [],
   "source": [
    "slc = sorted(lc)\n",
    "half1 = slc[:len(lc)//2]\n",
    "half2 = slc[len(lc)//2:]"
   ]
  },
  {
   "cell_type": "code",
   "execution_count": null,
   "metadata": {},
   "outputs": [],
   "source": [
    "## Keep only the largest connected component (does not change the results)\n",
    "G.remove_nodes_from([n for n in G if n not in set(lc)])\n",
    "## Calculate the normalized cut cost\n",
    "ncost = 1/2*nx.algorithms.cuts.normalized_cut_size(G, half1, half2) \n",
    "print('Normalized cut cost:', ncost)"
   ]
  },
  {
   "cell_type": "markdown",
   "metadata": {},
   "source": [
    "### Question 8"
   ]
  },
  {
   "cell_type": "code",
   "execution_count": null,
   "metadata": {},
   "outputs": [],
   "source": [
    "half1_origin = half1.copy()\n",
    "half2_origin = half2.copy()"
   ]
  },
  {
   "cell_type": "code",
   "execution_count": null,
   "metadata": {},
   "outputs": [],
   "source": [
    "ncost = []\n",
    "for h1 in range(0,len(half1_origin)):\n",
    "    for h2 in range(0,len(half2_origin)):\n",
    "        half1[h1] = half2_origin[h2]\n",
    "        half2[h2] = half1_origin[h1]\n",
    "        tmp_ncost = 1/2*nx.algorithms.cuts.normalized_cut_size(G, half1, half2)\n",
    "        ncost.append(tmp_ncost)\n",
    "        half1 = half1_origin.copy()\n",
    "        half2 = half2_origin.copy()"
   ]
  },
  {
   "cell_type": "code",
   "execution_count": null,
   "metadata": {},
   "outputs": [],
   "source": [
    "## Find the min normalized cut cost\n",
    "min(ncost)\n",
    "ind = ncost.index(min(ncost))\n",
    "h1 = ind // len(half1_origin)\n",
    "h2 = ind % len(half1_origin)\n",
    "half1[h1] = half2_origin[h2]\n",
    "half2[h2] = half1_origin[h1]\n",
    "print('The elements of the split:', half1, half2)\n",
    "print('Normalized cut cost:', min(ncost))"
   ]
  }
 ],
 "metadata": {
  "kernelspec": {
   "display_name": "Python 3",
   "language": "python",
   "name": "python3"
  },
  "language_info": {
   "codemirror_mode": {
    "name": "ipython",
    "version": 3
   },
   "file_extension": ".py",
   "mimetype": "text/x-python",
   "name": "python",
   "nbconvert_exporter": "python",
   "pygments_lexer": "ipython3",
   "version": "3.7.6"
  }
 },
 "nbformat": 4,
 "nbformat_minor": 4
}
