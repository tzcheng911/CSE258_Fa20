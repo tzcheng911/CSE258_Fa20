{
 "cells": [
  {
   "cell_type": "markdown",
   "metadata": {},
   "source": [
    "## Fa2020 CSE258 HW1\n",
    "Name: Tzu-Han Cheng\n",
    "\n",
    "PID: A53238806\n",
    "\n",
    "email: tzcheng@ucsd.edu"
   ]
  },
  {
   "cell_type": "code",
   "execution_count": 1,
   "metadata": {},
   "outputs": [],
   "source": [
    "import numpy        # linear algebra\n",
    "import urllib.request # load data from the web\n",
    "import scipy.optimize # optimization routines\n",
    "import random         # random number generation\n",
    "import ast\n",
    "import matplotlib.pyplot as plt\n",
    "from sklearn import linear_model\n",
    "from sklearn import metrics # confusion matrix, MSE etc."
   ]
  },
  {
   "cell_type": "code",
   "execution_count": 2,
   "metadata": {},
   "outputs": [],
   "source": [
    "def parseData(fname):\n",
    "  for l in urllib.request.urlopen(fname):\n",
    "    yield eval(l)"
   ]
  },
  {
   "cell_type": "code",
   "execution_count": 3,
   "metadata": {},
   "outputs": [],
   "source": [
    "def parseDataFromFile(fname):\n",
    "  for l in open(fname):\n",
    "    #yield eval(l)\n",
    "    yield ast.literal_eval(l)"
   ]
  },
  {
   "cell_type": "code",
   "execution_count": 4,
   "metadata": {},
   "outputs": [],
   "source": [
    "def getlen(datum):\n",
    "  textlen = len(datum)\n",
    "  return textlen"
   ]
  },
  {
   "cell_type": "code",
   "execution_count": 5,
   "metadata": {},
   "outputs": [],
   "source": [
    "def getMSE(theta, X, y):\n",
    "    predict = theta*X\n",
    "    predict = numpy.array(predict)\n",
    "    predict = predict.sum(axis=1)\n",
    "    error = sum((y - predict)**2)\n",
    "    MSE = 1/len(y)*error\n",
    "    return MSE"
   ]
  },
  {
   "cell_type": "code",
   "execution_count": 6,
   "metadata": {},
   "outputs": [],
   "source": [
    "data = list(parseDataFromFile\n",
    "            (\"/Users/t.z.cheng/Google_Drive/Coursework/CSE258/HW/fantasy_10000.json\"))"
   ]
  },
  {
   "cell_type": "code",
   "execution_count": 7,
   "metadata": {},
   "outputs": [],
   "source": [
    "## Get x and y\n",
    "length = [getlen(d['review_text']) for d in data]\n",
    "length = numpy.array(length)/max(length) # normalize the feature \n",
    "y = [d['rating'] for d in data]"
   ]
  },
  {
   "cell_type": "code",
   "execution_count": 8,
   "metadata": {},
   "outputs": [
    {
     "data": {
      "image/png": "[encoded data removed]",
      "text/plain": [
       "<Figure size 432x288 with 1 Axes>"
      ]
     },
     "metadata": {
      "needs_background": "light"
     },
     "output_type": "display_data"
    }
   ],
   "source": [
    "## Visualize the data\n",
    "plt.scatter(length, y)\n",
    "plt.title('The relationship between rating and text length')\n",
    "plt.xlabel('Text length')\n",
    "plt.ylabel('Ratings')\n",
    "plt.show()"
   ]
  },
  {
   "cell_type": "markdown",
   "metadata": {},
   "source": [
    "### Q2"
   ]
  },
  {
   "cell_type": "code",
   "execution_count": 9,
   "metadata": {},
   "outputs": [],
   "source": [
    "def feature(datum):\n",
    "  return [1, datum]"
   ]
  },
  {
   "cell_type": "code",
   "execution_count": 10,
   "metadata": {},
   "outputs": [],
   "source": [
    "X = [feature(l) for l in length]"
   ]
  },
  {
   "cell_type": "code",
   "execution_count": 11,
   "metadata": {},
   "outputs": [],
   "source": [
    "theta,residuals,rank,s = numpy.linalg.lstsq(X, y, rcond=None)"
   ]
  },
  {
   "cell_type": "code",
   "execution_count": 12,
   "metadata": {},
   "outputs": [
    {
     "name": "stdout",
     "output_type": "stream",
     "text": [
      "Theta: [3.68568136 0.98335392]\n",
      "MSE: 1.5522086622355353\n"
     ]
    }
   ],
   "source": [
    "print('Theta:',theta)\n",
    "print('MSE:',getMSE(theta, X, y))"
   ]
  },
  {
   "cell_type": "code",
   "execution_count": null,
   "metadata": {},
   "outputs": [],
   "source": [
    "## Checking the results with LinearRegression and mean_squared_error in scikit learn\n",
    "# regr = linear_model.LinearRegression()\n",
    "## Train the model using the training sets\n",
    "# regr.fit(XX, y)\n",
    "# pred = regr.predict(XX)\n",
    "# print('Coefficients: \\n', regr.coef_)\n",
    "# print(metrics.mean_squared_error(y, pred))"
   ]
  },
  {
   "cell_type": "markdown",
   "metadata": {},
   "source": [
    "### Q3\n"
   ]
  },
  {
   "cell_type": "code",
   "execution_count": 13,
   "metadata": {},
   "outputs": [],
   "source": [
    "## Get number of comments\n",
    "ncomments = [d['n_comments'] for d in data]"
   ]
  },
  {
   "cell_type": "code",
   "execution_count": 14,
   "metadata": {},
   "outputs": [],
   "source": [
    "XX = numpy.insert(X, 2, ncomments,axis=-1)"
   ]
  },
  {
   "cell_type": "code",
   "execution_count": 15,
   "metadata": {},
   "outputs": [],
   "source": [
    "theta,residuals,rank,s = numpy.linalg.lstsq(XX, y, rcond=None)"
   ]
  },
  {
   "cell_type": "code",
   "execution_count": 16,
   "metadata": {},
   "outputs": [
    {
     "name": "stdout",
     "output_type": "stream",
     "text": [
      "Theta: [ 3.68916737  1.08497776 -0.03279289]\n",
      "MSE: 1.5498351692774626\n"
     ]
    }
   ],
   "source": [
    "print('Theta:',theta)\n",
    "print('MSE:',getMSE(theta, XX, y))"
   ]
  },
  {
   "cell_type": "markdown",
   "metadata": {},
   "source": [
    "$ \\theta_{1} $ is different because the model considers another features, thus the result is conditional. "
   ]
  },
  {
   "cell_type": "markdown",
   "metadata": {},
   "source": [
    "### Q4"
   ]
  },
  {
   "cell_type": "code",
   "execution_count": 17,
   "metadata": {},
   "outputs": [
    {
     "name": "stdout",
     "output_type": "stream",
     "text": [
      "Theta: [3.68568136 0.98335392]\n",
      "MSE: 1.5522086622355353\n"
     ]
    }
   ],
   "source": [
    "## degree 1\n",
    "def feature(datum):\n",
    "  return [1, datum]\n",
    "X_n1 = [feature(l) for l in length]\n",
    "X_n1 = numpy.array(X_n1, dtype='float')\n",
    "theta,residuals,rank,s = numpy.linalg.lstsq(X_n1, y, rcond=None)\n",
    "print('Theta:',theta)\n",
    "print('MSE:',getMSE(theta, X_n1, y))"
   ]
  },
  {
   "cell_type": "code",
   "execution_count": 18,
   "metadata": {},
   "outputs": [
    {
     "name": "stdout",
     "output_type": "stream",
     "text": [
      "Theta: [ 3.65975869  1.8395413  -2.62503319]\n",
      "MSE: 1.5506567696339422\n"
     ]
    }
   ],
   "source": [
    "## degree 2\n",
    "def feature(datum):\n",
    "  return [1, datum, datum**2]\n",
    "X_n2 = [feature(l) for l in length]\n",
    "X_n2 = numpy.array(X_n2, dtype='float')\n",
    "theta,residuals,rank,s = numpy.linalg.lstsq(X_n2, y, rcond=None)\n",
    "print('Theta:',theta)\n",
    "print('MSE:',getMSE(theta, X_n2, y))"
   ]
  },
  {
   "cell_type": "code",
   "execution_count": 19,
   "metadata": {},
   "outputs": [
    {
     "name": "stdout",
     "output_type": "stream",
     "text": [
      "Theta: [ 3.63659658  2.8884065  -8.48042966  6.12504475]\n",
      "MSE: 1.5497985323805499\n"
     ]
    }
   ],
   "source": [
    "## degree 3\n",
    "def feature(datum):\n",
    "  return [1, datum, datum**2, datum**3]\n",
    "X_n3 = [feature(l) for l in length]\n",
    "X_n3 = numpy.array(X_n3, dtype='float')\n",
    "theta,residuals,rank,s = numpy.linalg.lstsq(X_n3, y, rcond=None)\n",
    "print('Theta:',theta)\n",
    "print('MSE:',getMSE(theta, X_n3, y))"
   ]
  },
  {
   "cell_type": "code",
   "execution_count": 20,
   "metadata": {},
   "outputs": [
    {
     "name": "stdout",
     "output_type": "stream",
     "text": [
      "Theta: [  3.64736873   2.20419719  -1.80763945 -11.6451833   12.21844408]\n",
      "MSE: 1.549629132452472\n"
     ]
    }
   ],
   "source": [
    "## degree 4\n",
    "def feature(datum):\n",
    "  return [1, datum, datum**2, datum**3, datum**4]\n",
    "X_n4 = [feature(l) for l in length]\n",
    "X_n4 = numpy.array(X_n4, dtype='float')\n",
    "theta,residuals,rank,s = numpy.linalg.lstsq(X_n4, y, rcond=None)\n",
    "print('Theta:',theta)\n",
    "print('MSE:',getMSE(theta, X_n4, y))"
   ]
  },
  {
   "cell_type": "code",
   "execution_count": 21,
   "metadata": {},
   "outputs": [
    {
     "name": "stdout",
     "output_type": "stream",
     "text": [
      "Theta: [  3.6441158    2.47396326  -5.65441081   5.55309592 -15.94637484\n",
      "  14.68100179]\n",
      "MSE: 1.549614202329866\n"
     ]
    }
   ],
   "source": [
    "## degree 5\n",
    "def feature(datum):\n",
    "  return [1, datum, datum**2, datum**3, datum**4, datum**5]\n",
    "X_n5 = [feature(l) for l in length]\n",
    "X_n5 = numpy.array(X_n5, dtype='float')\n",
    "theta,residuals,rank,s = numpy.linalg.lstsq(X_n5, y, rcond=None)\n",
    "print('Theta:',theta)\n",
    "print('MSE:',getMSE(theta, X_n5, y))"
   ]
  },
  {
   "cell_type": "markdown",
   "metadata": {},
   "source": [
    "### Q5"
   ]
  },
  {
   "cell_type": "code",
   "execution_count": 22,
   "metadata": {},
   "outputs": [],
   "source": [
    "# degree 1 \n",
    "ninsert = 2\n",
    "dataset1 = numpy.insert(X_n1, ninsert, y, axis=-1) # Create dataset\n",
    "# print('Original data',dataset1)\n",
    "random.shuffle(dataset1) # Shuffle\n",
    "# print('Shuffled data',dataset1)\n",
    "X = [values[:-1] for values in dataset1] # extract X\n",
    "y = [values[-1] for values in dataset1] # extract y"
   ]
  },
  {
   "cell_type": "code",
   "execution_count": 23,
   "metadata": {},
   "outputs": [],
   "source": [
    "# Get training and testing subsets\n",
    "N = len(y)\n",
    "X_train = numpy.array(X[:N//2], dtype='float') # force N//2 to be integer\n",
    "X_test = numpy.array(X[N//2:], dtype='float')\n",
    "y_train = numpy.array(y[:N//2], dtype='float')\n",
    "y_test = numpy.array(y[N//2:], dtype='float')"
   ]
  },
  {
   "cell_type": "code",
   "execution_count": 24,
   "metadata": {},
   "outputs": [
    {
     "name": "stdout",
     "output_type": "stream",
     "text": [
      "Theta: [3.72558306 0.81043483 0.81043483]\n",
      "MSE of training set: 1.394225629393576\n",
      "MSE of testing set: 1.4203777890339226\n",
      "Theta: [3.73569032 0.63559642 0.63559642 1.29187051]\n",
      "MSE of training set: 1.3940983311455524\n",
      "MSE of testing set: 1.4221407233510488\n",
      "Theta: [  3.74207287   0.49528585   0.49528585   2.72115267 -21.24246732]\n",
      "MSE of training set: 1.3939790012993378\n",
      "MSE of testing set: 1.4611627186291336\n",
      "Theta: [ 3.74058675e+00  5.31725640e-01  5.31743212e-01  2.29072819e+00\n",
      " -6.57191530e+00 -6.15463720e+05]\n",
      "MSE of training set: 1.3939286370997277\n",
      "MSE of testing set: 15509813.505049543\n",
      "Theta: [ 3.74058675e+00  5.31725622e-01  5.31743230e-01  2.29072819e+00\n",
      " -6.57191530e+00 -6.15463720e+05 -2.07236738e-18]\n",
      "MSE of training set: 1.3939286370997277\n",
      "MSE of testing set: 15509813.505049549\n"
     ]
    }
   ],
   "source": [
    "for i in range(1,6):\n",
    "    tmptrain = numpy.array(X_train[:,i])**(i)\n",
    "    X_train = numpy.insert(X_train,(i+1),tmptrain,axis=-1)\n",
    "    tmptest = numpy.array(X_test[:,i])**(i)\n",
    "    X_test = numpy.insert(X_test,(i+1),tmptest,axis=-1)\n",
    "    theta,residuals,rank,s = numpy.linalg.lstsq(X_train, y_train, rcond=None)\n",
    "    print('Theta:',theta)\n",
    "    print('MSE of training set:',getMSE(theta, X_train, y_train))\n",
    "    print('MSE of testing set:',getMSE(theta, X_test, y_test))"
   ]
  },
  {
   "cell_type": "markdown",
   "metadata": {},
   "source": [
    "### Q6"
   ]
  },
  {
   "cell_type": "markdown",
   "metadata": {},
   "source": [
    "Equation of MSE:\n",
    "$ f(\\theta) = \\frac{1}{N}\\sum \\limits _{i = 1} ^{N}(x_{i}\\theta - y_{i})^{2} $ \n",
    "\n",
    "Derivative of MSE:    $ \\frac{\\partial f}{\\partial \\theta} = \\frac{-2}{N}\\sum \\limits _{i = 1} ^{N}x_{i}(y_{i}-x_{i}\\theta) $\n",
    "\n",
    "Set derivative to 0 to get the min\n",
    "\n",
    "$ \\frac{-2}{N}\\sum \\limits _{i = 1} ^{N}x_{i}(y_{i}-x_{i}\\theta) = 0 $\n",
    "\n",
    "\n",
    "As a trivial predictor $ y = \\theta_{0} $, $x_{i} = 1$, and -2 is just an constant which could be neglected here, therefore\n",
    "\n",
    "$ \\frac{-2}{N}\\sum \\limits _{i = 1} ^{N}x_{i}(y_{i}-x_{i}\\theta_{0}) = \\frac{1}{N}\\sum \\limits _{i = 1} ^{N}(1)(y_{i}-1(\\theta_{0}) = 0 $\n",
    "\n",
    "\n",
    "$\\frac{\\sum \\limits _{i = 1} ^{N}(y_{i})}{N}-\\frac{N\\theta_{0}}{N} = 0$\n",
    "\n",
    "$\\frac{\\sum \\limits _{i = 1} ^{N}(y_{i})}{N} = \\frac{N\\theta_{0}}{N} $\n",
    "\n",
    "$\\bar{y} = \\theta_{0}$\n"
   ]
  },
  {
   "cell_type": "markdown",
   "metadata": {},
   "source": [
    "### Q7"
   ]
  },
  {
   "cell_type": "code",
   "execution_count": 25,
   "metadata": {},
   "outputs": [],
   "source": [
    "data = list(parseData(\"https://cseweb.ucsd.edu/classes/fa20/cse258-a/data/beer_50000.json\"))"
   ]
  },
  {
   "cell_type": "code",
   "execution_count": 27,
   "metadata": {},
   "outputs": [],
   "source": [
    "## Check if 'user/gender' only take Female and Male\n",
    "# data1 = [d for d in data if 'user/gender' in d and d['user/gender'] == 'Female']\n",
    "# data2 = [d for d in data if 'user/gender' in d and d['user/gender'] == 'Male']\n",
    "# print(len(data1))\n",
    "# print(len(data2))"
   ]
  },
  {
   "cell_type": "code",
   "execution_count": 28,
   "metadata": {},
   "outputs": [
    {
     "name": "stdout",
     "output_type": "stream",
     "text": [
      "20403\n"
     ]
    }
   ],
   "source": [
    "# Filter the data that includes specified gender\n",
    "data = [d for d in data if 'user/gender' in d]\n",
    "print(len(data))"
   ]
  },
  {
   "cell_type": "code",
   "execution_count": 29,
   "metadata": {},
   "outputs": [],
   "source": [
    "reviewlength = [getlen(d['review/text']) for d in data]\n",
    "y = [d['user/gender'] for d in data]\n",
    "y = numpy.array(y)"
   ]
  },
  {
   "cell_type": "code",
   "execution_count": 30,
   "metadata": {},
   "outputs": [],
   "source": [
    "def feature(datum):\n",
    "  return [1, datum]"
   ]
  },
  {
   "cell_type": "code",
   "execution_count": 31,
   "metadata": {},
   "outputs": [],
   "source": [
    "x = [feature(l) for l in reviewlength]"
   ]
  },
  {
   "cell_type": "code",
   "execution_count": 32,
   "metadata": {},
   "outputs": [],
   "source": [
    "# Logistic regression classifier\n",
    "model = linear_model.LogisticRegression(C=1.0)\n",
    "model.fit(x,y)\n",
    "pred = model.predict(x)"
   ]
  },
  {
   "cell_type": "code",
   "execution_count": 44,
   "metadata": {},
   "outputs": [],
   "source": [
    "# cm = metrics.confusion_matrix(y, pred)\n",
    "# print(cm)\n",
    "# TP|FN\n",
    "# FP|TN"
   ]
  },
  {
   "cell_type": "code",
   "execution_count": 34,
   "metadata": {},
   "outputs": [],
   "source": [
    "# True Positive, True Negative, False Positive, False Negative\n",
    "TP_ = numpy.logical_and(y == 'Female', pred == 'Female')\n",
    "FP_ = numpy.logical_and(y == 'Male', pred == 'Female')\n",
    "TN_ = numpy.logical_and(y == 'Male', pred == 'Male')\n",
    "FN_ = numpy.logical_and(y == 'Female', pred == 'Male')"
   ]
  },
  {
   "cell_type": "code",
   "execution_count": 35,
   "metadata": {},
   "outputs": [
    {
     "name": "stdout",
     "output_type": "stream",
     "text": [
      "TP: 0\n",
      "FP: 0\n",
      "TN: 20095\n",
      "FN: 308\n"
     ]
    }
   ],
   "source": [
    "TP = sum(TP_)\n",
    "FP = sum(FP_)\n",
    "TN = sum(TN_)\n",
    "FN = sum(FN_)\n",
    "print('TP:',TP)\n",
    "print('FP:',FP)\n",
    "print('TN:',TN)\n",
    "print('FN:',FN)"
   ]
  },
  {
   "cell_type": "code",
   "execution_count": 36,
   "metadata": {},
   "outputs": [],
   "source": [
    "correct = y == pred"
   ]
  },
  {
   "cell_type": "code",
   "execution_count": 45,
   "metadata": {},
   "outputs": [],
   "source": [
    "# Accuracy\n",
    "accuracy = sum(correct) / len(correct)\n",
    "accuracy = (TP + TN) / (TP + FP + TN + FN)"
   ]
  },
  {
   "cell_type": "code",
   "execution_count": 38,
   "metadata": {},
   "outputs": [
    {
     "name": "stdout",
     "output_type": "stream",
     "text": [
      "BER: 0.5\n"
     ]
    }
   ],
   "source": [
    "# Balanced error rate\n",
    "BER = 1 - 0.5 * (TP / (TP + FN) + TN / (TN + FP))\n",
    "print('BER:',BER)"
   ]
  },
  {
   "cell_type": "markdown",
   "metadata": {},
   "source": [
    "### Q8"
   ]
  },
  {
   "cell_type": "code",
   "execution_count": 39,
   "metadata": {},
   "outputs": [],
   "source": [
    "# Retrain logistic regression classifier\n",
    "model = linear_model.LogisticRegression(C=1.0,class_weight='balanced')\n",
    "model.fit(x,y)\n",
    "pred = model.predict(x)"
   ]
  },
  {
   "cell_type": "code",
   "execution_count": 40,
   "metadata": {},
   "outputs": [
    {
     "name": "stdout",
     "output_type": "stream",
     "text": [
      "TP: 199\n",
      "FP: 11672\n",
      "TN: 8423\n",
      "FN: 109\n",
      "BER: 0.4673685545606422\n"
     ]
    }
   ],
   "source": [
    "TP_ = numpy.logical_and(y == 'Female', pred == 'Female')\n",
    "FP_ = numpy.logical_and(y == 'Male', pred == 'Female')\n",
    "TN_ = numpy.logical_and(y == 'Male', pred == 'Male')\n",
    "FN_ = numpy.logical_and(y == 'Female', pred == 'Male')\n",
    "TP = sum(TP_)\n",
    "FP = sum(FP_)\n",
    "TN = sum(TN_)\n",
    "FN = sum(FN_)\n",
    "print('TP:',TP)\n",
    "print('FP:',FP)\n",
    "print('TN:',TN)\n",
    "print('FN:',FN)\n",
    "BER = 1 - 0.5 * (TP / (TP + FN) + TN / (TN + FP))\n",
    "print('BER:',BER)"
   ]
  },
  {
   "cell_type": "markdown",
   "metadata": {},
   "source": [
    "### Q9"
   ]
  },
  {
   "cell_type": "code",
   "execution_count": 41,
   "metadata": {},
   "outputs": [],
   "source": [
    "extra_feature = [d['review/taste'] for d in data]\n",
    "xx = numpy.insert(x, 2, extra_feature,axis=-1)"
   ]
  },
  {
   "cell_type": "code",
   "execution_count": 42,
   "metadata": {},
   "outputs": [],
   "source": [
    "# Retrain logistic regression classifier\n",
    "model = linear_model.LogisticRegression(C=1.0,class_weight='balanced')\n",
    "model.fit(xx,y)\n",
    "pred = model.predict(xx)"
   ]
  },
  {
   "cell_type": "code",
   "execution_count": 43,
   "metadata": {},
   "outputs": [
    {
     "name": "stdout",
     "output_type": "stream",
     "text": [
      "BER: 0.4607541127695395\n"
     ]
    }
   ],
   "source": [
    "TP_ = numpy.logical_and(y == 'Female', pred == 'Female')\n",
    "FP_ = numpy.logical_and(y == 'Male', pred == 'Female')\n",
    "TN_ = numpy.logical_and(y == 'Male', pred == 'Male')\n",
    "FN_ = numpy.logical_and(y == 'Female', pred == 'Male')\n",
    "TP = sum(TP_)\n",
    "FP = sum(FP_)\n",
    "TN = sum(TN_)\n",
    "FN = sum(FN_)\n",
    "BER = 1 - 0.5 * (TP / (TP + FN) + TN / (TN + FP))\n",
    "print('BER:',BER)"
   ]
  }
 ],
 "metadata": {
  "kernelspec": {
   "display_name": "Python 3",
   "language": "python",
   "name": "python3"
  },
  "language_info": {
   "codemirror_mode": {
    "name": "ipython",
    "version": 3
   },
   "file_extension": ".py",
   "mimetype": "text/x-python",
   "name": "python",
   "nbconvert_exporter": "python",
   "pygments_lexer": "ipython3",
   "version": "3.7.6"
  }
 },
 "nbformat": 4,
 "nbformat_minor": 4
}
